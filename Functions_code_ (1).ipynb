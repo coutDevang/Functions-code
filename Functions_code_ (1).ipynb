{
  "nbformat": 4,
  "nbformat_minor": 0,
  "metadata": {
    "colab": {
      "provenance": []
    },
    "kernelspec": {
      "name": "python3",
      "display_name": "Python 3"
    },
    "language_info": {
      "name": "python"
    }
  },
  "cells": [
    {
      "cell_type": "code",
      "execution_count": null,
      "metadata": {
        "id": "wHzlX5H2I2J2"
      },
      "outputs": [],
      "source": []
    },
    {
      "cell_type": "markdown",
      "source": [
        "##  1) Write a Python function that takes a list of numbers as input and returns the sum of all even numbers in\n",
        "the list."
      ],
      "metadata": {
        "id": "EHu0XEYxI70e"
      }
    },
    {
      "cell_type": "code",
      "source": [
        "def sum_of_even_numbers(numbers):\n",
        "    \"\"\"\n",
        "    Calculate the sum of all even numbers in a list.\n",
        "\n",
        "    Args:\n",
        "        numbers (list): A list of integers.\n",
        "\n",
        "    Returns:\n",
        "        int: The sum of all even numbers in the list.\n",
        "    \"\"\"\n",
        "    return sum(num for num in numbers if num % 2 == 0)\n",
        "\n",
        "# Example usage:\n",
        "numbers = [1, 2, 3, 4, 5, 6]\n",
        "result = sum_of_even_numbers(numbers)\n",
        "print(\"Sum of even numbers:\", result)  # Output: Sum of even numbers: 12\n"
      ],
      "metadata": {
        "id": "F_smXBsVI-y9"
      },
      "execution_count": null,
      "outputs": []
    },
    {
      "cell_type": "markdown",
      "source": [
        "2. Create a Python function that accepts a string and returns the reverse of that string."
      ],
      "metadata": {
        "id": "xEnIF1g_JCXv"
      }
    },
    {
      "cell_type": "code",
      "source": [
        "def reverse_string(input_string):\n",
        "    \"\"\"\n",
        "    Reverse the given string.\n",
        "\n",
        "    Args:\n",
        "        input_string (str): The string to be reversed.\n",
        "\n",
        "    Returns:\n",
        "        str: The reversed string.\n",
        "    \"\"\"\n",
        "    return input_string[::-1]\n",
        "\n",
        "# Example usage:\n",
        "text = \"Hello, Devang!\"\n",
        "reversed_text = reverse_string(text)\n",
        "print(\"Reversed string:\", reversed_text)  # Output: !gnaveD ,olleH\n"
      ],
      "metadata": {
        "id": "kv_m0gq9JEYp"
      },
      "execution_count": null,
      "outputs": []
    },
    {
      "cell_type": "markdown",
      "source": [
        "3. Implement a Python function that takes a list of integers and returns a new list containing the squares of\n",
        "each number."
      ],
      "metadata": {
        "id": "mD-E2F0wJHq_"
      }
    },
    {
      "cell_type": "code",
      "source": [
        "def square_numbers(numbers):\n",
        "    \"\"\"\n",
        "    Calculate the square of each number in the list.\n",
        "\n",
        "    Args:\n",
        "        numbers (list): A list of integers.\n",
        "\n",
        "    Returns:\n",
        "        list: A new list with the squares of each number.\n",
        "    \"\"\"\n",
        "    return [num ** 2 for num in numbers]\n",
        "\n",
        "# Example usage:\n",
        "numbers = [1, 2, 3, 4, 5]\n",
        "squared_numbers = square_numbers(numbers)\n",
        "print(\"Squared numbers:\", squared_numbers)  # Output: [1, 4, 9, 16, 25]\n"
      ],
      "metadata": {
        "id": "QoE4MG5NJJaM"
      },
      "execution_count": null,
      "outputs": []
    },
    {
      "cell_type": "markdown",
      "source": [
        "4. Write a Python function that checks if a given number is prime or not from 1 to 200"
      ],
      "metadata": {
        "id": "KFb0kDtKJNkH"
      }
    },
    {
      "cell_type": "code",
      "source": [
        "def is_prime(number):\n",
        "    \"\"\"\n",
        "    Check if a number is prime.\n",
        "\n",
        "    Args:\n",
        "        number (int): The number to check.\n",
        "\n",
        "    Returns:\n",
        "        bool: True if the number is prime, False otherwise.\n",
        "    \"\"\"\n",
        "    if number <= 1:\n",
        "        return False  # Numbers less than or equal to 1 are not prime\n",
        "    for i in range(2, int(number**0.5) + 1):  # Check divisors up to sqrt(number)\n",
        "        if number % i == 0:\n",
        "            return False\n",
        "    return True\n",
        "\n",
        "# Check primes from 1 to 200\n",
        "for num in range(1, 201):\n",
        "    if is_prime(num):\n",
        "        print(num, \"is prime.\")\n"
      ],
      "metadata": {
        "id": "C4LY6gvcJSdL"
      },
      "execution_count": null,
      "outputs": []
    },
    {
      "cell_type": "markdown",
      "source": [
        "5. Create an iterator class in Python that generates the Fibonacci sequence up to a specified number of\n",
        "terms."
      ],
      "metadata": {
        "id": "DIwL8g77JToP"
      }
    },
    {
      "cell_type": "code",
      "source": [
        "class FibonacciIterator:\n",
        "    def __init__(self, terms):\n",
        "        \"\"\"\n",
        "        Initialize the Fibonacci iterator.\n",
        "\n",
        "        Args:\n",
        "            terms (int): The number of terms in the Fibonacci sequence to generate.\n",
        "        \"\"\"\n",
        "        self.terms = terms\n",
        "        self.count = 0\n",
        "        self.prev, self.curr = 0, 1\n",
        "\n",
        "    def __iter__(self):\n",
        "        \"\"\"\n",
        "        Return the iterator object itself.\n",
        "        \"\"\"\n",
        "        return self\n",
        "\n",
        "    def __next__(self):\n",
        "        \"\"\"\n",
        "        Return the next Fibonacci number in the sequence.\n",
        "\n",
        "        Raises:\n",
        "            StopIteration: When the specified number of terms is reached.\n",
        "        \"\"\"\n",
        "        if self.count < self.terms:\n",
        "            fib_number = self.prev\n",
        "            self.prev, self.curr = self.curr, self.prev + self.curr\n",
        "            self.count += 1\n",
        "            return fib_number\n",
        "        else:\n",
        "            raise StopIteration\n",
        "\n",
        "# Example usage:\n",
        "fibonacci = FibonacciIterator(10)  # Generate first 10 Fibonacci numbers\n",
        "\n",
        "for num in fibonacci:\n",
        "    print(num)\n"
      ],
      "metadata": {
        "id": "O5hWdhSjJVE3"
      },
      "execution_count": null,
      "outputs": []
    },
    {
      "cell_type": "markdown",
      "source": [
        "6. Write a generator function in Python that yields the powers of 2 up to a given exponent."
      ],
      "metadata": {
        "id": "1WgGZJqJJZx6"
      }
    },
    {
      "cell_type": "code",
      "source": [
        "def powers_of_two(exponent):\n",
        "    \"\"\"\n",
        "    Yield powers of 2 up to the given exponent.\n",
        "\n",
        "    Args:\n",
        "        exponent (int): The highest exponent for the power of 2 to generate.\n",
        "    \"\"\"\n",
        "    for i in range(exponent + 1):\n",
        "        yield 2 ** i\n",
        "\n",
        "# Example usage:\n",
        "for power in powers_of_two(5):  # Generate powers of 2 from 2^0 to 2^5\n",
        "    print(power)\n"
      ],
      "metadata": {
        "id": "EXfrRtRIJcfk"
      },
      "execution_count": null,
      "outputs": []
    },
    {
      "cell_type": "markdown",
      "source": [
        "7. Implement a generator function that reads a file line by line and yields each line as a string"
      ],
      "metadata": {
        "id": "TbrPlaJnJfBZ"
      }
    },
    {
      "cell_type": "code",
      "source": [
        "def read_file_line_by_line(file_path):\n",
        "    \"\"\"\n",
        "    A generator function that reads a file line by line and yields each line.\n",
        "\n",
        "    Args:\n",
        "        file_path (str): The path to the file to be read.\n",
        "\n",
        "    Yields:\n",
        "        str: Each line from the file.\n",
        "    \"\"\"\n",
        "    with open(file_path, 'r') as file:\n",
        "        for line in file:\n",
        "            yield line.strip()  # .strip() is used to remove trailing newline characters\n",
        "\n",
        "# Example usage:\n",
        "file_path = 'example.txt'  # Replace with the path to your file\n",
        "\n",
        "for line in read_file_line_by_line(file_path):\n",
        "    print(line)\n"
      ],
      "metadata": {
        "id": "9hcNtPeaJsyc"
      },
      "execution_count": null,
      "outputs": []
    },
    {
      "cell_type": "markdown",
      "source": [
        "8. Use a lambda function in Python to sort a list of tuples based on the second element of each tuple"
      ],
      "metadata": {
        "id": "7Y0CqImpJypL"
      }
    },
    {
      "cell_type": "code",
      "source": [
        "9. Write a Python program that uses `map()` to convert a list of temperatures from Celsius to Fahrenheit."
      ],
      "metadata": {
        "id": "Bp2Jjh3kJzRC"
      },
      "execution_count": null,
      "outputs": []
    },
    {
      "cell_type": "code",
      "source": [
        "def celsius_to_fahrenheit(celsius):\n",
        "    \"\"\"\n",
        "    Convert temperature from Celsius to Fahrenheit.\n",
        "\n",
        "    Args:\n",
        "        celsius (float): Temperature in Celsius.\n",
        "\n",
        "    Returns:\n",
        "        float: Temperature in Fahrenheit.\n",
        "    \"\"\"\n",
        "    return (celsius * 9/5) + 32\n",
        "\n",
        "# List of temperatures in Celsius\n",
        "celsius_temperatures = [0, 20, 30, 100, -5]\n",
        "\n",
        "# Use map() to apply the celsius_to_fahrenheit function to each temperature\n",
        "fahrenheit_temperatures = list(map(celsius_to_fahrenheit, celsius_temperatures))\n",
        "\n",
        "# Print the resulting list of temperatures in Fahrenheit\n",
        "print(fahrenheit_temperatures)\n"
      ],
      "metadata": {
        "id": "rJs1qWwBJ1X7"
      },
      "execution_count": null,
      "outputs": []
    },
    {
      "cell_type": "markdown",
      "source": [
        "10. Create a Python program that uses `filter()` to remove all the vowels from a given string"
      ],
      "metadata": {
        "id": "hS_82n28J47e"
      }
    },
    {
      "cell_type": "code",
      "source": [
        "def remove_vowels(input_string):\n",
        "    \"\"\"\n",
        "    Remove vowels from the given string.\n",
        "\n",
        "    Args:\n",
        "        input_string (str): The string from which vowels will be removed.\n",
        "\n",
        "    Returns:\n",
        "        str: The string with vowels removed.\n",
        "    \"\"\"\n",
        "    vowels = \"aeiouAEIOU\"\n",
        "    # Using filter() to keep only the characters that are not vowels\n",
        "    filtered_string = ''.join(filter(lambda char: char not in vowels, input_string))\n",
        "    return filtered_string\n",
        "\n",
        "# Example usage:\n",
        "input_string = \"Hello, Devang!\"\n",
        "output_string = remove_vowels(input_string)\n",
        "print(\"String without vowels:\", output_string)\n"
      ],
      "metadata": {
        "id": "5zMcEG68J8y-"
      },
      "execution_count": null,
      "outputs": []
    },
    {
      "cell_type": "markdown",
      "source": [
        "11) Write a Python program, which returns a list with 2-tuples. Each tuple consists of the order number and the\n",
        "product of the price per item and the quantity. The product should be increased by 10,- € if the value of the\n",
        "order is smaller than 100,00 €.\n",
        "\n",
        "Write a Python program using lambda and map."
      ],
      "metadata": {
        "id": "d-QxTtSAKBFS"
      }
    },
    {
      "cell_type": "markdown",
      "source": [],
      "metadata": {
        "id": "wne846sDKFe0"
      }
    },
    {
      "cell_type": "code",
      "source": [
        "def calculate_order(order):\n",
        "    \"\"\"\n",
        "    Calculate the total price for an order.\n",
        "\n",
        "    Args:\n",
        "        order (tuple): A tuple containing the order number, price per item, and quantity.\n",
        "\n",
        "    Returns:\n",
        "        tuple: A tuple containing the order number and the total price after adjustment.\n",
        "    \"\"\"\n",
        "    order_number, price, quantity = order\n",
        "    total_price = price * quantity\n",
        "    # If total price is less than 100, increase it by 10 €\n",
        "    if total_price < 100:\n",
        "        total_price += 10\n",
        "    return (order_number, total_price)\n",
        "\n",
        "# List of orders (order_number, price_per_item, quantity)\n",
        "orders = [\n",
        "    (1, 10, 5),   # 10€ per item, 5 items\n",
        "    (2, 20, 3),   # 20€ per item, 3 items\n",
        "    (3, 50, 1),   # 50€ per item, 1 item\n",
        "    (4, 15, 8),   # 15€ per item, 8 items\n",
        "]\n",
        "\n",
        "# Using map with lambda to calculate the order total prices\n",
        "result = list(map(lambda order: calculate_order(order), orders))\n",
        "\n",
        "# Print the result\n",
        "print(result)\n"
      ],
      "metadata": {
        "id": "O5K4qpYSKF1q"
      },
      "execution_count": null,
      "outputs": []
    }
  ]
}